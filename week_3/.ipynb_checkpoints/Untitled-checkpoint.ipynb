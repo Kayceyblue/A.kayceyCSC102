{
 "cells": [
  {
   "cell_type": "code",
   "execution_count": 1,
   "id": "90529ebb",
   "metadata": {},
   "outputs": [
    {
     "name": "stdout",
     "output_type": "stream",
     "text": [
      "Enter your state of orign:delta state\n",
      "Your state of origin is:    delta state\n",
      "The first character is:   d\n",
      "The character starting from 3rd to 5th are:  lta\n",
      "The string starting from 3rd character is: lta state\n",
      "State of origin two times delta statedelta state\n"
     ]
    }
   ],
   "source": [
    "str = input(\"Enter your state of orign:\")\n",
    "\n",
    "print (\"Your state of origin is:   \", str)\n",
    "print (\"The first character is:  \", str[0])\n",
    "print (\"The character starting from 3rd to 5th are: \", str[2:5])\n",
    "print (\"The string starting from 3rd character is:\", str[2:])\n",
    "print (\"State of origin two times\", str * 2)\n"
   ]
  },
  {
   "cell_type": "code",
   "execution_count": 3,
   "id": "d34e4a29",
   "metadata": {},
   "outputs": [
    {
     "name": "stdout",
     "output_type": "stream",
     "text": [
      "Enter mass in kilogram: 1000\n",
      "The energy equivalent to 1000.0 kg of mass is 8.987551787368176e+19 joules.\n"
     ]
    }
   ],
   "source": [
    "# Input from user\n",
    "m = float(input(\"Enter mass in kilogram: \"))\n",
    "\n",
    "# constant value for the speed of light in m/s\n",
    "c = 299792458\n",
    "\n",
    "# calculating energy using Einstein's equation\n",
    "energy = m * c ** 2\n",
    "\n",
    "# Displaying the result\n",
    "print(f\"The energy equivalent to {m} kg of mass is {energy} joules.\")\n"
   ]
  },
  {
   "cell_type": "code",
   "execution_count": 4,
   "id": "e6ca809c",
   "metadata": {},
   "outputs": [
    {
     "name": "stdout",
     "output_type": "stream",
     "text": [
      "['Anaconda', 786, 2.23, 'jupyter', 70.2]\n",
      "Anaconda\n",
      "[786, 2.23]\n",
      "[2.23, 'jupyter', 70.2]\n",
      "[321, 'python', 321, 'python']\n",
      "['Anaconda', 786, 2.23, 'jupyter', 70.2, 321, 'python']\n"
     ]
    }
   ],
   "source": [
    "list = [ 'Anaconda', 786 , 2.23, 'jupyter', 70.2 ]\n",
    "shortlist = [321, 'python']\n",
    "\n",
    "print(list)\n",
    "print(list[0])\n",
    "print(list[1:3])\n",
    "print(list[2:])\n",
    "print(shortlist * 2)\n",
    "print(list + shortlist)\n"
   ]
  },
  {
   "cell_type": "code",
   "execution_count": 1,
   "id": "63158ec0",
   "metadata": {},
   "outputs": [
    {
     "name": "stdout",
     "output_type": "stream",
     "text": [
      "Grade = 70\n",
      "GPA = 4\n",
      "CGPA = 4\n"
     ]
    }
   ],
   "source": [
    "# convert to int\n",
    "\n",
    "grade = int (70)\n",
    "gpa = int (4.9)\n",
    "cgpa = int(\"4\")\n",
    "\n",
    "print(f\"Grade = {grade}\")\n",
    "print(f\"GPA = {gpa}\")\n",
    "print(f\"CGPA = {cgpa}\")\n"
   ]
  },
  {
   "cell_type": "code",
   "execution_count": 2,
   "id": "9b791ebb",
   "metadata": {},
   "outputs": [
    {
     "name": "stdout",
     "output_type": "stream",
     "text": [
      "Grade = 97.0\n",
      "GPA = 5.0\n",
      "CGPA = 4.7\n"
     ]
    }
   ],
   "source": [
    "## convert to float\n",
    "\n",
    "grade = float (97)\n",
    "gpa = float (5)\n",
    "cgpa = float(\"4.7\")\n",
    "\n",
    "print(f\"Grade = {grade}\")\n",
    "print(f\"GPA = {gpa}\")\n",
    "print(f\"CGPA = {cgpa}\")\n"
   ]
  },
  {
   "cell_type": "code",
   "execution_count": 2,
   "id": "a6b1e032",
   "metadata": {},
   "outputs": [
    {
     "name": "stdout",
     "output_type": "stream",
     "text": [
      "Enter the value of A:2\n",
      "Enter the value of B:4\n",
      "Enter the value of D:6\n",
      "No real roots\n"
     ]
    }
   ],
   "source": [
    "import math\n",
    "\n",
    "# Input value for A,B, and D\n",
    "A = float(input(\"Enter the value of A:\"))\n",
    "B = float(input(\"Enter the value of B:\"))\n",
    "D = float(input(\"Enter the value of D:\"))\n",
    "\n",
    "# calcutate the discriminant\n",
    "D = B**2 - 4*A*D\n",
    "\n",
    "# IF D is negative, no real roots\n",
    "if D < 0:\n",
    "    print(\"No real roots\")\n",
    "    \n",
    "#if D is zero , one real root\n",
    "elif D == 0:\n",
    "    x = -B / (3*A)\n",
    "    print(\"The root is:\", x)\n",
    "    \n",
    "#if D is positive, three real roots\n",
    "else:\n",
    "    q = (B**2 - 3*A*D) / (9*A**2)\n",
    "    r = (2*B**3 - 9*A*B*D + 27*A**2*D) / (54*A**3)\n",
    "    s = maths.sqrt(q**3 + r**2)\n",
    "    t = -r + s**(1/3) if r + s**(1/3) >= 0 else -r - s**(1/3)\n",
    "    x1 = t -B / (3*A)\n",
    "    x2 = (-t + (3**(1/2))*s) / (3*A)\n",
    "    x3 = (-t - (3**(1/2))*s) / (3*A)\n",
    "    print(\"The roots are:\", x1, x2, x3)"
   ]
  },
  {
   "cell_type": "code",
   "execution_count": null,
   "id": "3bf6bbe6",
   "metadata": {},
   "outputs": [],
   "source": []
  },
  {
   "cell_type": "code",
   "execution_count": null,
   "id": "e48f97b7",
   "metadata": {},
   "outputs": [],
   "source": []
  }
 ],
 "metadata": {
  "kernelspec": {
   "display_name": "Python 3 (ipykernel)",
   "language": "python",
   "name": "python3"
  },
  "language_info": {
   "codemirror_mode": {
    "name": "ipython",
    "version": 3
   },
   "file_extension": ".py",
   "mimetype": "text/x-python",
   "name": "python",
   "nbconvert_exporter": "python",
   "pygments_lexer": "ipython3",
   "version": "3.10.9"
  }
 },
 "nbformat": 4,
 "nbformat_minor": 5
}
