{
 "cells": [
  {
   "cell_type": "code",
   "execution_count": 3,
   "id": "16f16029",
   "metadata": {},
   "outputs": [
    {
     "name": "stdout",
     "output_type": "stream",
     "text": [
      "    Student Name Matric.Number  Depertment  Level\n",
      "0  Olunchi Mordi   ACC10211111  Accounting    300\n",
      "1    Adams Aliyu   ECO10110101   Economics    100\n",
      "2  Shania Bolade   CSC10328828    Computer    200\n",
      "3  Adekunle Gold   EEE11020202  Electrical    200\n",
      "4  Blanca Edemoh   MEE10202001  Mechanical    100\n"
     ]
    }
   ],
   "source": [
    "#Question 1\n",
    "import pandas as pd\n",
    "SIMS = {'Student Name':['Olunchi Mordi','Adams Aliyu','Shania Bolade','Adekunle Gold','Blanca Edemoh'],\n",
    "            'Matric.Number':['ACC10211111','ECO10110101','CSC10328828','EEE11020202','MEE10202001'],\n",
    "            'Depertment':['Accounting','Economics','Computer','Electrical','Mechanical'],'Level':[300,100,200,200,100]}\n",
    "\n",
    "df = pd.DataFrame(SIMS)\n",
    "\n",
    "print(df)\n",
    "df.to_csv('SIMS')"
   ]
  },
  {
   "cell_type": "code",
   "execution_count": 17,
   "id": "e2ea03a8",
   "metadata": {},
   "outputs": [
    {
     "name": "stdout",
     "output_type": "stream",
     "text": [
      "    Company   DOF   Assets  Liability  Percentage Leverage\n",
      "0     Enron  1987  1000000     200000                 20.0\n",
      "1  Anderson  1936  1500000     500000                 33.3\n",
      "2  GK_Jones  2001  3000000    1500000                 50.0\n",
      "3      Mica  1996   250000      50000                 20.0\n",
      "4      Dune  2008   800000     300000                 37.5\n"
     ]
    }
   ],
   "source": [
    "#Question 2\n",
    "import pandas as pd\n",
    "  \n",
    "\n",
    "Global_Economy = {'Company': ['Enron','Anderson','GK_Jones','Mica','Dune'],'DOF': [1987,1936,2001,1996,2008],\n",
    "                 'Assets':[1000000,1500000,3000000,250000,800000,],'Liability': [200000,500000,1500000,50000,300000],\n",
    "                 'Percentage Leverage': [20.0,33.3,50.0,20.0,37.5] }\n",
    "\n",
    "df = pd.DataFrame(Global_Economy)\n",
    "print(df)\n",
    "df.to_csv('Global_Economy')"
   ]
  },
  {
   "cell_type": "code",
   "execution_count": null,
   "id": "63f98298",
   "metadata": {},
   "outputs": [],
   "source": []
  }
 ],
 "metadata": {
  "kernelspec": {
   "display_name": "Python 3 (ipykernel)",
   "language": "python",
   "name": "python3"
  },
  "language_info": {
   "codemirror_mode": {
    "name": "ipython",
    "version": 3
   },
   "file_extension": ".py",
   "mimetype": "text/x-python",
   "name": "python",
   "nbconvert_exporter": "python",
   "pygments_lexer": "ipython3",
   "version": "3.10.9"
  }
 },
 "nbformat": 4,
 "nbformat_minor": 5
}
