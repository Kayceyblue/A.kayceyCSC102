{
 "cells": [
  {
   "cell_type": "code",
   "execution_count": 13,
   "id": "b1f3ad21",
   "metadata": {},
   "outputs": [
    {
     "ename": "NameError",
     "evalue": "name 'OrangeStock' is not defined",
     "output_type": "error",
     "traceback": [
      "\u001b[1;31m---------------------------------------------------------------------------\u001b[0m",
      "\u001b[1;31mNameError\u001b[0m                                 Traceback (most recent call last)",
      "Cell \u001b[1;32mIn[13], line 36\u001b[0m\n\u001b[0;32m     32\u001b[0m                 \u001b[38;5;28mprint\u001b[39m(\u001b[38;5;124m\"\u001b[39m\u001b[38;5;124mSorry, the requested quantity is not available. Please select a lower quantity.\u001b[39m\u001b[38;5;124m\"\u001b[39m)\n\u001b[0;32m     35\u001b[0m \u001b[38;5;66;03m#main program\u001b[39;00m\n\u001b[1;32m---> 36\u001b[0m store \u001b[38;5;241m=\u001b[39m \u001b[43monlinestore\u001b[49m\u001b[43m(\u001b[49m\u001b[43m)\u001b[49m\n\u001b[0;32m     37\u001b[0m store\u001b[38;5;241m.\u001b[39mbuy_oranges()\n",
      "Cell \u001b[1;32mIn[13], line 17\u001b[0m, in \u001b[0;36monlinestore.__init__\u001b[1;34m(self)\u001b[0m\n\u001b[0;32m     16\u001b[0m \u001b[38;5;28;01mdef\u001b[39;00m \u001b[38;5;21m__init__\u001b[39m(\u001b[38;5;28mself\u001b[39m):\n\u001b[1;32m---> 17\u001b[0m     \u001b[38;5;28mself\u001b[39m\u001b[38;5;241m.\u001b[39morange_stock \u001b[38;5;241m=\u001b[39m \u001b[43mOrangeStock\u001b[49m(\u001b[38;5;241m50\u001b[39m)\n",
      "\u001b[1;31mNameError\u001b[0m: name 'OrangeStock' is not defined"
     ]
    }
   ],
   "source": [
    "class Orangestock:\n",
    "    def __init__(self, initial_quantity):\n",
    "        self.quantity = initial_quantity\n",
    "        \n",
    "    def check_availability(self, requested_quantity):\n",
    "        if requested_quantity <= self.quqntity:\n",
    "            return True\n",
    "        else:\n",
    "            return False\n",
    "        \n",
    "    def reduce_stock(self, purchased_quantity):\n",
    "        self.quantity -= purchased_quantity\n",
    "        \n",
    "\n",
    "class onlinestore:\n",
    "    def __init__(self):\n",
    "        self.orange_stock = OrangeStock(50) # initializing with 50 oranges in stock\n",
    "        \n",
    "    def buy_oranges(self):\n",
    "        print(\"welcome to our online store! \")\n",
    "        while True:\n",
    "            requested_quantity = int(input(\"Enter the number of oranges you want to buy (or 0 to exit): \"))\n",
    "            if requested_quantity ==0:\n",
    "                print(\"Thank you for visiting our store!\")\n",
    "                break\n",
    "                \n",
    "            if self.orange_stock.check_availability(requested_quantity):\n",
    "                self.orange_stock.reduce_stock(requested_quantity)\n",
    "                cost = requested_quantity * 2.5  # Assuming each orange cost $2.50\n",
    "                print(f\"You purchased {requested_quantity} orange. The total cost is ${cost}.\")\n",
    "            else:\n",
    "                print(\"Sorry, the requested quantity is not available. Please select a lower quantity.\")\n",
    "                \n",
    "                \n",
    "#main program\n",
    "store = onlinestore()\n",
    "store.buy_oranges()"
   ]
  },
  {
   "cell_type": "code",
   "execution_count": null,
   "id": "f441f298",
   "metadata": {},
   "outputs": [],
   "source": []
  },
  {
   "cell_type": "code",
   "execution_count": null,
   "id": "8ff81930",
   "metadata": {},
   "outputs": [],
   "source": []
  },
  {
   "cell_type": "code",
   "execution_count": null,
   "id": "aa81b8f7",
   "metadata": {},
   "outputs": [],
   "source": []
  }
 ],
 "metadata": {
  "kernelspec": {
   "display_name": "Python 3 (ipykernel)",
   "language": "python",
   "name": "python3"
  },
  "language_info": {
   "codemirror_mode": {
    "name": "ipython",
    "version": 3
   },
   "file_extension": ".py",
   "mimetype": "text/x-python",
   "name": "python",
   "nbconvert_exporter": "python",
   "pygments_lexer": "ipython3",
   "version": "3.10.9"
  }
 },
 "nbformat": 4,
 "nbformat_minor": 5
}
